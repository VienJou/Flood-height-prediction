{
 "cells": [
  {
   "cell_type": "code",
   "execution_count": 1,
   "id": "f6815aff-1823-4fb4-b15e-21dd7ab88b50",
   "metadata": {},
   "outputs": [],
   "source": [
    "# Water Depth (in meter) calculated from USGS High Water Marks and 3DEP DEM" 
   ]
  },
{
  "cell_type": "markdown",
  "id": "f6815aff-1823-4fb4-b15e-21dd7ab88b50",
  "metadata": {},
  "source": 
    ## **Ethics Section**

    As part of our commitment to ethical research and development, we provide the following documentation:

    - DC_01_Target_HWM.docx: Describes the target high-water mark data used in the model.
    - RF_Model_Card.docx: Details the Random Forest model used for flood height prediction.
    - I-GUIDE Model Card - Feature Routing.docx: Explains the deep learning routing model and its features.
  ]
}，
  {
   "cell_type": "code",
   "execution_count": 2,
   "id": "e52e2245-3a0d-4ae3-8c88-8b452f7e7a8e",
   "metadata": {},
   "outputs": [],
   "source": [
    "from pathlib import Path\n",
    "import geopandas as gpd\n",
    "import rasterio\n",
    "import numpy as np\n",
    "import pandas as pd\n",
    "from datetime import datetime"
   ]
  },
  {
   "cell_type": "code",
   "execution_count": 3,
   "id": "592f2af0-e992-4460-88bd-bf54620c9da6",
   "metadata": {},
   "outputs": [],
   "source": [
    "# paths\n",
    "shp_path = \"/anvil/projects/x-cis250634/team5/shp/filtered_flooding_points_over_one_day.shp\"\n",
    "rasters_dir = Path(\"/anvil/projects/x-cis250634/team5/data_0718/USGS_3DEP_0722_3000m\")\n",
    "\n",
    "gdf = gpd.read_file(shp_path)  # IDs are strings\n",
    "\n",
    "def sample_rasters_by_exact_id(gdf, rasters_dir, id_col=\"ID\"):\n",
    "    rows = []\n",
    "\n",
    "    for idx, row in gdf.iterrows():\n",
    "        idv = row[id_col]  # \n",
    "        year = row['peak_date']\n",
    "        Year= datetime.strptime(year, \"%m/%d/%Y %I:%M:%S %p\").year\n",
    "        #print(Year, 'Year')\n",
    "        #print(idv, 'idv')\n",
    "        tif_path = rasters_dir / f\"{idv}_USGS_3DEP_{Year}.tif\"\n",
    "        #print(tif_path, 'tif_path')\n",
    "        if not tif_path.exists():\n",
    "            rows.append({\"index\": idx, \"ID\": idv, \"value\": np.nan, \"tif_path\": None, \"note\": \"no raster for ID\"})\n",
    "            continue\n",
    "\n",
    "        with rasterio.open(tif_path) as src:\n",
    "            geom = row.geometry\n",
    "\n",
    "            # Reproject only if needed \n",
    "            if gdf.crs and src.crs and gdf.crs != src.crs:\n",
    "                geom = gpd.GeoSeries([geom], crs=gdf.crs).to_crs(src.crs).iloc[0]\n",
    "\n",
    "            x, y = geom.x, geom.y\n",
    "            b = src.bounds\n",
    "            if not (b.left <= x <= b.right and b.bottom <= y <= b.top):\n",
    "                rows.append({\"index\": idx, \"ID\": idv, \"value\": np.nan, \"tif_path\": str(tif_path), \"note\": \"point outside raster\"})\n",
    "                continue\n",
    "\n",
    "            # Read the single pixel as masked to avoid \n",
    "            r, c = src.index(x, y)\n",
    "            arr = src.read(1, window=((r, r+1), (c, c+1)), masked=True)\n",
    "            val = arr[0, 0]\n",
    "\n",
    "            if np.ma.is_masked(val):\n",
    "                out_val = np.nan\n",
    "                note = \"masked\"\n",
    "            else:\n",
    "                ## Apply scale/offset if present\n",
    "                scale = src.scales[0] \n",
    "                offset = src.offsets[0] \n",
    "                out_val = float(val) * scale + offset\n",
    "                note = \"\"\n",
    "\n",
    "            rows.append({\"index\": idx, \"ID\": idv, \"Year\":Year , \"DEM_10m\": out_val, \"tif_path\": str(tif_path), \"note\": note})\n",
    "\n",
    "    df = pd.DataFrame(rows).set_index(\"index\").reindex(gdf.index)\n",
    "    return gdf.join(df[[\"Year\", \"DEM_10m\", \"tif_path\", \"note\"]])\n",
    "\n",
    "# Run\n",
    "gdf_with_values = sample_rasters_by_exact_id(gdf, rasters_dir)\n",
    "\n",
    "#print(gdf_with_values[[\"ID\", \"DEM_10m\", \"note\", \"tif_path\"]].head())\n",
    "#print(gdf_with_values[\"note\"].value_counts(dropna=False))\n",
    "\n",
    "gdf_new = gdf_with_values.copy()\n",
    "\n",
    "# Make sure both columns are numeric\n",
    "gdf_new[\"elev_ft\"] = pd.to_numeric(gdf_new[\"elev_ft\"], errors=\"coerce\")\n",
    "gdf_new[\"DEM_10m\"] = pd.to_numeric(gdf_new[\"DEM_10m\"], errors=\"coerce\") \n",
    "\n",
    "# Convert feet → meters\n",
    "gdf_new[\"elev_m\"] = gdf_new[\"elev_ft\"] * 0.3048\n",
    "\n",
    "# Subtract DEM (in meters) from the converted elevation (in meters)\n",
    "gdf_new[\"HWMdepth_m\"] = gdf_new[\"elev_m\"] - gdf_new[\"DEM_10m\"]\n",
    "\n",
    "# Save Files\n",
    "gdf_new.to_file(\"HWM_with_3DEP.shp\", driver=\"ESRI Shapefile\")\n",
    "gdf_new[[\"ID\",\"Year\",\"HWMdepth_m\"]].to_csv(\"HWM_Depth_m.csv\", index=False)"
   ]
  }
 ],
 "metadata": {
  "kernelspec": {
   "display_name": "Flood Env",
   "language": "python",
   "name": "flood_env"
  },
  "language_info": {
   "codemirror_mode": {
    "name": "ipython",
    "version": 3
   },
   "file_extension": ".py",
   "mimetype": "text/x-python",
   "name": "python",
   "nbconvert_exporter": "python",
   "pygments_lexer": "ipython3",
   "version": "3.12.11"
  }
 },
 "nbformat": 4,
 "nbformat_minor": 5
}
